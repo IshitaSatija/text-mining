{
  "cells": [
    {
      "cell_type": "code",
      "source": [
        "!sudo apt-get install python3.7\n",
        "!sudo update-alternatives --install /usr/bin/python3 python3 /usr/bin/python3.7 1\n",
        "!sudo update-alternatives --config python3\n",
        "!sudo apt install python3-pip"
      ],
      "metadata": {
        "id": "SbLsJl7EY3n1",
        "outputId": "7cc173e5-4049-4caa-c420-3a05ef489e01",
        "colab": {
          "base_uri": "https://localhost:8080/"
        }
      },
      "id": "SbLsJl7EY3n1",
      "execution_count": null,
      "outputs": [
        {
          "output_type": "stream",
          "name": "stdout",
          "text": [
            "Reading package lists... Done\n",
            "Building dependency tree... Done\n",
            "Reading state information... Done\n",
            "python3.7 is already the newest version (3.7.17-1+jammy1).\n",
            "0 upgraded, 0 newly installed, 0 to remove and 29 not upgraded.\n",
            "There are 3 choices for the alternative python3 (providing /usr/bin/python3).\n",
            "\n",
            "  Selection    Path                 Priority   Status\n",
            "------------------------------------------------------------\n",
            "* 0            /usr/bin/python3.11   2         auto mode\n",
            "  1            /usr/bin/python3.10   1         manual mode\n",
            "  2            /usr/bin/python3.11   2         manual mode\n",
            "  3            /usr/bin/python3.7    1         manual mode\n",
            "\n",
            "Press <enter> to keep the current choice[*], or type selection number: 3\n",
            "update-alternatives: using /usr/bin/python3.7 to provide /usr/bin/python3 (python3) in manual mode\n",
            "Reading package lists... Done\n",
            "Building dependency tree... Done\n",
            "Reading state information... Done\n",
            "python3-pip is already the newest version (22.0.2+dfsg-1ubuntu0.5).\n",
            "0 upgraded, 0 newly installed, 0 to remove and 29 not upgraded.\n"
          ]
        }
      ]
    },
    {
      "cell_type": "markdown",
      "source": [],
      "metadata": {
        "id": "E5eDXoZhaBPu"
      },
      "id": "E5eDXoZhaBPu"
    },
    {
      "cell_type": "code",
      "source": [
        "!python --version"
      ],
      "metadata": {
        "id": "WylooWDTZdM_",
        "outputId": "8cf6596e-c98d-4c27-9d20-67aebf428f6f",
        "colab": {
          "base_uri": "https://localhost:8080/"
        }
      },
      "id": "WylooWDTZdM_",
      "execution_count": null,
      "outputs": [
        {
          "output_type": "stream",
          "name": "stdout",
          "text": [
            "Python 3.7.17\n"
          ]
        }
      ]
    },
    {
      "cell_type": "code",
      "source": [
        "%ls"
      ],
      "metadata": {
        "id": "3YJGl0HnaTQc",
        "outputId": "131de118-a12f-47ab-e6ee-b985395b8fb4",
        "colab": {
          "base_uri": "https://localhost:8080/"
        }
      },
      "id": "3YJGl0HnaTQc",
      "execution_count": 10,
      "outputs": [
        {
          "output_type": "stream",
          "name": "stdout",
          "text": [
            "\u001b[0m\u001b[01;34msample_data\u001b[0m/\n"
          ]
        }
      ]
    }
  ],
  "metadata": {
    "kernelspec": {
      "display_name": "Python 3",
      "name": "python3"
    },
    "language_info": {
      "name": "python"
    },
    "required_libs": [],
    "colab": {
      "provenance": []
    }
  },
  "nbformat": 4,
  "nbformat_minor": 5
}